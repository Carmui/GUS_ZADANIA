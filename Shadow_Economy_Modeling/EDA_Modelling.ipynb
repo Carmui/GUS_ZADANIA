{
 "cells": [
  {
   "cell_type": "code",
   "execution_count": 1,
   "id": "0c4f2f45",
   "metadata": {},
   "outputs": [],
   "source": [
    "import pandas as pd\n",
    "import numpy as np\n",
    "import seaborn as sns\n",
    "import matplotlib.pyplot as plt\n",
    "\n",
    "pd.set_option('max_columns', None)"
   ]
  },
  {
   "cell_type": "markdown",
   "id": "e2827698",
   "metadata": {},
   "source": [
    "### Exploratory Data Analysis - wybrane parametry"
   ]
  },
  {
   "cell_type": "markdown",
   "id": "f964be1b",
   "metadata": {},
   "source": [
    "Wybrane parametry z poprzedniego etapu:\n",
    "- <b>Y</b> - zmienna objaśniana oznaczająca przynależność bądź też nie do szarej strefy\n",
    "- <b>woj</b> - Województwo, z którego wzięta została dana obserwacja (stworzona zostanie zmienna dzieląca województwa na blok wschodni oraz zachodni\n",
    "- <b>miejsce_4k</b> - typ miasta/wsi w podziale na 4 kategorie (wieś, miasto do 20k, miasto 20-100k, miasto powyżej 100k obywateli)\n",
    "- <b>wiek</b> - wiek badanych osób\n",
    "- <b>wiek_3k</b> - wiek badanych osób z podziałem na 3 kategorie\n",
    "- <b>wiek_4k</b> - wiek badanych osób z podziałem na 4 kategorie\n",
    "- <b>m2</b> - płeć badanej osoby\n",
    "- <b>wykszt_4k</b> - wykształcenie z podziałem an 4 kategorie (średnie, zasadnicze zawodowe, wyższe, gimnazjalne i mniej)\n",
    "- <b>matura</b> - czy osoba posiadała mature\n",
    "- <b>p1</b> - czy prowadzi działalność gospodarczą\n",
    "- <b>p1_typ</b> - typ prowadzonej działalności gospodarczej\n",
    "- <b>p14</b> - jak zmieniły się Pana/Pani dochody w ciągu ostatnich lat\n",
    "- <b>c1</b> - Czy w ciągu ostatnich 12 miesięcy pomagał(a) Pan(i)nieodpłatnie w rodzinnej działalności gospodarczej lub rolniczej? (pomyśleć czy uwzględnić, gdyż pytanie wręcz nasuwa przynależność do szarej strefy)\n",
    "- <b>c2</b> - Czy tę pracę Pan(i) nadal wykonuje, czy została ona już zakończona bądź tymczasowo przerwana?\n",
    "- <b>y1</b> - Czy w minionych 12 miesiącach pracował(a) Pan(i) zarobkowo za granicą?\n",
    "- <b>y1_1</b> - Ile miesięcy Pan(i) pracował(a)?\n",
    "- <b>y2</b> - A czy w najbliższych 12 miesiącach zamierza Pan(i) pracować zarobkowo za granicą?\n",
    "- <b>g1</b> - ma pracę i wykonuje/nie ma pracy lub ma przerwę\n",
    "- <b>s1</b> - Czy poszukuje Pan(i) jakiejś innej pracy, poza tą, którą Pan(i) obecnie wykonuje?\n",
    "- <b>m5</b> - Jaki jest Pana obecny stan cywilny? (może podzielić na mniejsze kategorie?\n",
    "- <b>m6</b> - Czy ma Pan/Pani dziecko?\n",
    "- <b>m9_1</b> - Przedziały zarobkowe\n",
    "\n"
   ]
  },
  {
   "cell_type": "code",
   "execution_count": 2,
   "id": "bdad1c44",
   "metadata": {
    "scrolled": true
   },
   "outputs": [
    {
     "name": "stderr",
     "output_type": "stream",
     "text": [
      "C:\\Users\\mateu\\AppData\\Local\\Temp/ipykernel_31664/3334247715.py:15: PerformanceWarning: DataFrame is highly fragmented.  This is usually the result of calling `frame.insert` many times, which has poor performance.  Consider joining all columns at once using pd.concat(axis=1) instead.  To get a de-fragmented frame, use `newframe = frame.copy()`\n",
      "  Ludnosc_df[\"Y\"]  = np.select(conditions, values)\n"
     ]
    }
   ],
   "source": [
    "Ludnosc_df = pd.read_spss(r'C:\\Users\\mateu\\Desktop\\Python_SCRIPTS\\GUS_praktyki\\Ludnosc_BKL_2019.sav')\n",
    "\n",
    "# Warunki z ankiety - odpowiedzi na pytania dotyczące pracowania w szarej strefie\n",
    "conditions = [\n",
    "    (Ludnosc_df['j6'] == \"tak\"),\n",
    "    (Ludnosc_df['n1'] == \"tak\"),\n",
    "    (Ludnosc_df['j6'] == \"nie\"),\n",
    "    (Ludnosc_df['n1'] == \"nie\"),\n",
    "    ]\n",
    "\n",
    "# Dobór wartości do powyższych warunków\n",
    "values = [1, 1, 0, 0]\n",
    "\n",
    "# Tworzymy zmienną objaśnianą\n",
    "Ludnosc_df[\"Y\"]  = np.select(conditions, values)"
   ]
  },
  {
   "cell_type": "markdown",
   "id": "53289c56",
   "metadata": {},
   "source": [
    "# Tworzenie bazowego datasetu z kluczowymi parametrami"
   ]
  },
  {
   "cell_type": "code",
   "execution_count": 3,
   "id": "8477dda0",
   "metadata": {},
   "outputs": [],
   "source": [
    "df = Ludnosc_df[['respid', 'Y', 'woj', 'miejsce_4k', 'wiek', 'wiek_3k', 'wiek_4k', 'm2', 'wykszt_4k', 'matura', 'p1', \n",
    "                 'p1_typ', 'p14', 'c1', 'c2', 'y1', 'y1_1', 'y2', 'g1', 's1', 'm5', 'm6', 'm9_1']]"
   ]
  },
  {
   "cell_type": "code",
   "execution_count": 4,
   "id": "561b6a77",
   "metadata": {},
   "outputs": [
    {
     "name": "stdout",
     "output_type": "stream",
     "text": [
      "<class 'pandas.core.frame.DataFrame'>\n",
      "RangeIndex: 2533 entries, 0 to 2532\n",
      "Data columns (total 23 columns):\n",
      " #   Column      Non-Null Count  Dtype   \n",
      "---  ------      --------------  -----   \n",
      " 0   respid      2533 non-null   float64 \n",
      " 1   Y           2533 non-null   int32   \n",
      " 2   woj         2533 non-null   category\n",
      " 3   miejsce_4k  2527 non-null   category\n",
      " 4   wiek        2533 non-null   float64 \n",
      " 5   wiek_3k     2533 non-null   category\n",
      " 6   wiek_4k     2533 non-null   category\n",
      " 7   m2          2533 non-null   category\n",
      " 8   wykszt_4k   2531 non-null   category\n",
      " 9   matura      2533 non-null   category\n",
      " 10  p1          2533 non-null   category\n",
      " 11  p1_typ      348 non-null    category\n",
      " 12  p14         350 non-null    category\n",
      " 13  c1          2532 non-null   category\n",
      " 14  c2          2533 non-null   category\n",
      " 15  y1          2532 non-null   category\n",
      " 16  y1_1        2532 non-null   category\n",
      " 17  y2          2532 non-null   category\n",
      " 18  g1          2532 non-null   category\n",
      " 19  s1          1554 non-null   category\n",
      " 20  m5          2530 non-null   category\n",
      " 21  m6          2533 non-null   category\n",
      " 22  m9_1        213 non-null    category\n",
      "dtypes: category(20), float64(2), int32(1)\n",
      "memory usage: 103.4 KB\n"
     ]
    }
   ],
   "source": [
    "df.info()"
   ]
  },
  {
   "cell_type": "markdown",
   "id": "b544118e",
   "metadata": {},
   "source": [
    "# Data engineering"
   ]
  },
  {
   "cell_type": "markdown",
   "id": "cda34a94",
   "metadata": {},
   "source": [
    "### Kolumna 'woj'"
   ]
  },
  {
   "cell_type": "code",
   "execution_count": 5,
   "id": "cbe2556b",
   "metadata": {
    "scrolled": true
   },
   "outputs": [
    {
     "name": "stderr",
     "output_type": "stream",
     "text": [
      "C:\\Users\\mateu\\AppData\\Local\\Temp/ipykernel_31664/607998422.py:1: SettingWithCopyWarning: \n",
      "A value is trying to be set on a copy of a slice from a DataFrame.\n",
      "Try using .loc[row_indexer,col_indexer] = value instead\n",
      "\n",
      "See the caveats in the documentation: https://pandas.pydata.org/pandas-docs/stable/user_guide/indexing.html#returning-a-view-versus-a-copy\n",
      "  df['woj'] = np.where(df['woj'].isin(['WARMIŃSKO-MAZURSKIE (woj.)', 'PODLASKIE (woj.)', 'LUBELSKIE (woj.)',\n"
     ]
    }
   ],
   "source": [
    "df['woj'] = np.where(df['woj'].isin(['WARMIŃSKO-MAZURSKIE (woj.)', 'PODLASKIE (woj.)', 'LUBELSKIE (woj.)',\n",
    "                                    'ŚWIĘTOKRZYSKIE (woj.)', 'PODKARPACKIE (woj.)']), 'wschodnie', 'zachodnie')"
   ]
  },
  {
   "cell_type": "code",
   "execution_count": 6,
   "id": "22b1121f",
   "metadata": {},
   "outputs": [
    {
     "name": "stderr",
     "output_type": "stream",
     "text": [
      "C:\\Users\\mateu\\AppData\\Local\\Temp/ipykernel_31664/3013812398.py:1: SettingWithCopyWarning: \n",
      "A value is trying to be set on a copy of a slice from a DataFrame.\n",
      "Try using .loc[row_indexer,col_indexer] = value instead\n",
      "\n",
      "See the caveats in the documentation: https://pandas.pydata.org/pandas-docs/stable/user_guide/indexing.html#returning-a-view-versus-a-copy\n",
      "  df['woj'] = df['woj'].astype('category')\n"
     ]
    }
   ],
   "source": [
    "df['woj'] = df['woj'].astype('category')"
   ]
  },
  {
   "cell_type": "markdown",
   "id": "2dc680c0",
   "metadata": {},
   "source": [
    "### Kolumna 'g1'"
   ]
  },
  {
   "cell_type": "code",
   "execution_count": 7,
   "id": "5805b85a",
   "metadata": {},
   "outputs": [
    {
     "name": "stderr",
     "output_type": "stream",
     "text": [
      "C:\\Users\\mateu\\AppData\\Local\\Temp/ipykernel_31664/4142069531.py:1: SettingWithCopyWarning: \n",
      "A value is trying to be set on a copy of a slice from a DataFrame.\n",
      "Try using .loc[row_indexer,col_indexer] = value instead\n",
      "\n",
      "See the caveats in the documentation: https://pandas.pydata.org/pandas-docs/stable/user_guide/indexing.html#returning-a-view-versus-a-copy\n",
      "  df['g1'] = np.where(df['g1'].isin(['nie ma pracy lub ma przerwę w pracy dłuższą niż 3 miesiące']), 'nie ma pracy', 'ma pracę')\n"
     ]
    }
   ],
   "source": [
    "df['g1'] = np.where(df['g1'].isin(['nie ma pracy lub ma przerwę w pracy dłuższą niż 3 miesiące']), 'nie ma pracy', 'ma pracę')"
   ]
  },
  {
   "cell_type": "code",
   "execution_count": 8,
   "id": "29cbca9d",
   "metadata": {},
   "outputs": [
    {
     "name": "stderr",
     "output_type": "stream",
     "text": [
      "C:\\Users\\mateu\\AppData\\Local\\Temp/ipykernel_31664/1023371915.py:1: SettingWithCopyWarning: \n",
      "A value is trying to be set on a copy of a slice from a DataFrame.\n",
      "Try using .loc[row_indexer,col_indexer] = value instead\n",
      "\n",
      "See the caveats in the documentation: https://pandas.pydata.org/pandas-docs/stable/user_guide/indexing.html#returning-a-view-versus-a-copy\n",
      "  df['g1'] = df['g1'].astype('category')\n"
     ]
    }
   ],
   "source": [
    "df['g1'] = df['g1'].astype('category')"
   ]
  },
  {
   "cell_type": "markdown",
   "id": "88d93434",
   "metadata": {},
   "source": [
    "# EDA - numerical variables"
   ]
  },
  {
   "cell_type": "code",
   "execution_count": 9,
   "id": "0c191605",
   "metadata": {},
   "outputs": [
    {
     "data": {
      "text/plain": [
       "[Text(0.5, 1.0, 'Czy pracujesz w szarej strefie?'),\n",
       " Text(0.5, 0, ''),\n",
       " Text(0, 0.5, '')]"
      ]
     },
     "execution_count": 9,
     "metadata": {},
     "output_type": "execute_result"
    },
    {
     "data": {
      "image/png": "[encoded data removed]",
      "text/plain": [
       "<Figure size 720x432 with 1 Axes>"
      ]
     },
     "metadata": {
      "needs_background": "light"
     },
     "output_type": "display_data"
    }
   ],
   "source": [
    "fig = plt.figure(figsize = (10, 6))\n",
    "sns.set(font_scale = 2)\n",
    "ax = sns.countplot(x = \"Y\", data = Ludnosc_df)\n",
    "ax.annotate(f'\\n{ax.patches[0].get_height()}', (ax.patches[0].get_x()+0.4, ax.patches[0].get_height()), ha='center', va='top', color='black', size=24)\n",
    "ax.annotate(f'\\n{ax.patches[1].get_height()}', (ax.patches[1].get_x()+0.4, ax.patches[1].get_height()+500), ha='center', va='top', color='black', size=24)\n",
    "ax.set(title = \"Czy pracujesz w szarej strefie?\", xlabel = \"\", ylabel = \"\")"
   ]
  },
  {
   "cell_type": "markdown",
   "id": "313e90ec",
   "metadata": {},
   "source": [
    "Jak widać na załączonym powyżej wykresie - istnieje bardzo duża dysproporcja pomiędzy wartościami obu zmiennych. Będzie trzeba wyrównać poziom obu powyższych parametrów.\n",
    "\n",
    "\n",
    "Przykładowo wykorzystać można następujące algorytmy: Resampling (Oversampling, undersampling) bądź też algorytm SMOTE.\n",
    "\n",
    "W trakcie dalszej analizy należy wziąć pod uwagę problem nierówności klas. Może to wpływać na korelację poszczególnych zmiennych."
   ]
  },
  {
   "cell_type": "code",
   "execution_count": 10,
   "id": "ebe4aeaa",
   "metadata": {},
   "outputs": [
    {
     "data": {
      "text/plain": [
       "<AxesSubplot:xlabel='wiek', ylabel='Count'>"
      ]
     },
     "execution_count": 10,
     "metadata": {},
     "output_type": "execute_result"
    },
    {
     "data": {
      "image/png": "[encoded data removed]",
      "text/plain": [
       "<Figure size 432x288 with 1 Axes>"
      ]
     },
     "metadata": {},
     "output_type": "display_data"
    }
   ],
   "source": [
    "sns.histplot(df['wiek'])"
   ]
  },
  {
   "cell_type": "code",
   "execution_count": 11,
   "id": "45ea19cd",
   "metadata": {},
   "outputs": [
    {
     "data": {
      "image/png": "[encoded data removed]",
      "text/plain": [
       "<Figure size 576x360 with 2 Axes>"
      ]
     },
     "metadata": {},
     "output_type": "display_data"
    }
   ],
   "source": [
    "#correlation matrix\n",
    "corrmat = df[['Y','wiek']].corr()\n",
    "f, ax = plt.subplots(figsize=(8, 5))\n",
    "sns.heatmap(corrmat, vmax=.8, square=True);"
   ]
  },
  {
   "cell_type": "code",
   "execution_count": 12,
   "id": "c75c9844",
   "metadata": {},
   "outputs": [
    {
     "data": {
      "text/html": [
       "<div>\n",
       "<style scoped>\n",
       "    .dataframe tbody tr th:only-of-type {\n",
       "        vertical-align: middle;\n",
       "    }\n",
       "\n",
       "    .dataframe tbody tr th {\n",
       "        vertical-align: top;\n",
       "    }\n",
       "\n",
       "    .dataframe thead th {\n",
       "        text-align: right;\n",
       "    }\n",
       "</style>\n",
       "<table border=\"1\" class=\"dataframe\">\n",
       "  <thead>\n",
       "    <tr style=\"text-align: right;\">\n",
       "      <th></th>\n",
       "      <th>Y</th>\n",
       "      <th>wiek</th>\n",
       "    </tr>\n",
       "  </thead>\n",
       "  <tbody>\n",
       "    <tr>\n",
       "      <th>Y</th>\n",
       "      <td>1.000000</td>\n",
       "      <td>-0.181188</td>\n",
       "    </tr>\n",
       "    <tr>\n",
       "      <th>wiek</th>\n",
       "      <td>-0.181188</td>\n",
       "      <td>1.000000</td>\n",
       "    </tr>\n",
       "  </tbody>\n",
       "</table>\n",
       "</div>"
      ],
      "text/plain": [
       "             Y      wiek\n",
       "Y     1.000000 -0.181188\n",
       "wiek -0.181188  1.000000"
      ]
     },
     "execution_count": 12,
     "metadata": {},
     "output_type": "execute_result"
    }
   ],
   "source": [
    "corrmat"
   ]
  },
  {
   "cell_type": "markdown",
   "id": "25ad969a",
   "metadata": {},
   "source": [
    "Wzrost wieku powoduje jednoczesny spadek przynależności do szarej strefy. Oznaczać to może, że starsi ludzie są mniej skłonni do brania udziału w szarej strefie."
   ]
  },
  {
   "cell_type": "markdown",
   "id": "e7b5325d",
   "metadata": {},
   "source": [
    "# EDA - categorical variables"
   ]
  },
  {
   "cell_type": "markdown",
   "id": "4fc54a7e",
   "metadata": {},
   "source": [
    "### Analiza zmiennych z bardzo małą ilością obserwacji (dużo nulli)"
   ]
  },
  {
   "cell_type": "code",
   "execution_count": 13,
   "id": "6fd25d34",
   "metadata": {},
   "outputs": [
    {
     "data": {
      "text/html": [
       "<div>\n",
       "<style scoped>\n",
       "    .dataframe tbody tr th:only-of-type {\n",
       "        vertical-align: middle;\n",
       "    }\n",
       "\n",
       "    .dataframe tbody tr th {\n",
       "        vertical-align: top;\n",
       "    }\n",
       "\n",
       "    .dataframe thead th {\n",
       "        text-align: right;\n",
       "    }\n",
       "</style>\n",
       "<table border=\"1\" class=\"dataframe\">\n",
       "  <thead>\n",
       "    <tr style=\"text-align: right;\">\n",
       "      <th></th>\n",
       "      <th>p1_typ</th>\n",
       "      <th>p14</th>\n",
       "      <th>s1</th>\n",
       "    </tr>\n",
       "  </thead>\n",
       "  <tbody>\n",
       "    <tr>\n",
       "      <th>0</th>\n",
       "      <td>NaN</td>\n",
       "      <td>NaN</td>\n",
       "      <td>NaN</td>\n",
       "    </tr>\n",
       "    <tr>\n",
       "      <th>1</th>\n",
       "      <td>NaN</td>\n",
       "      <td>NaN</td>\n",
       "      <td>NaN</td>\n",
       "    </tr>\n",
       "    <tr>\n",
       "      <th>2</th>\n",
       "      <td>NaN</td>\n",
       "      <td>NaN</td>\n",
       "      <td>NaN</td>\n",
       "    </tr>\n",
       "    <tr>\n",
       "      <th>3</th>\n",
       "      <td>NaN</td>\n",
       "      <td>NaN</td>\n",
       "      <td>NaN</td>\n",
       "    </tr>\n",
       "    <tr>\n",
       "      <th>4</th>\n",
       "      <td>NaN</td>\n",
       "      <td>NaN</td>\n",
       "      <td>NaN</td>\n",
       "    </tr>\n",
       "    <tr>\n",
       "      <th>...</th>\n",
       "      <td>...</td>\n",
       "      <td>...</td>\n",
       "      <td>...</td>\n",
       "    </tr>\n",
       "    <tr>\n",
       "      <th>2528</th>\n",
       "      <td>NaN</td>\n",
       "      <td>NaN</td>\n",
       "      <td>NaN</td>\n",
       "    </tr>\n",
       "    <tr>\n",
       "      <th>2529</th>\n",
       "      <td>NaN</td>\n",
       "      <td>NaN</td>\n",
       "      <td>NaN</td>\n",
       "    </tr>\n",
       "    <tr>\n",
       "      <th>2530</th>\n",
       "      <td>NaN</td>\n",
       "      <td>NaN</td>\n",
       "      <td>nie</td>\n",
       "    </tr>\n",
       "    <tr>\n",
       "      <th>2531</th>\n",
       "      <td>NaN</td>\n",
       "      <td>NaN</td>\n",
       "      <td>NaN</td>\n",
       "    </tr>\n",
       "    <tr>\n",
       "      <th>2532</th>\n",
       "      <td>NaN</td>\n",
       "      <td>NaN</td>\n",
       "      <td>nie</td>\n",
       "    </tr>\n",
       "  </tbody>\n",
       "</table>\n",
       "<p>2533 rows × 3 columns</p>\n",
       "</div>"
      ],
      "text/plain": [
       "     p1_typ  p14   s1\n",
       "0       NaN  NaN  NaN\n",
       "1       NaN  NaN  NaN\n",
       "2       NaN  NaN  NaN\n",
       "3       NaN  NaN  NaN\n",
       "4       NaN  NaN  NaN\n",
       "...     ...  ...  ...\n",
       "2528    NaN  NaN  NaN\n",
       "2529    NaN  NaN  NaN\n",
       "2530    NaN  NaN  nie\n",
       "2531    NaN  NaN  NaN\n",
       "2532    NaN  NaN  nie\n",
       "\n",
       "[2533 rows x 3 columns]"
      ]
     },
     "execution_count": 13,
     "metadata": {},
     "output_type": "execute_result"
    }
   ],
   "source": [
    "df[['p1_typ', 'p14', 's1']]"
   ]
  },
  {
   "cell_type": "code",
   "execution_count": 14,
   "id": "d307f373",
   "metadata": {},
   "outputs": [
    {
     "data": {
      "text/plain": [
       "pozarolnicza    195\n",
       "rolnicza        153\n",
       "Name: p1_typ, dtype: int64"
      ]
     },
     "execution_count": 14,
     "metadata": {},
     "output_type": "execute_result"
    }
   ],
   "source": [
    "df['p1_typ'].value_counts() "
   ]
  },
  {
   "cell_type": "code",
   "execution_count": 15,
   "id": "564572cd",
   "metadata": {},
   "outputs": [
    {
     "data": {
      "text/plain": [
       "pozostały bez zmian         195\n",
       "trochę się zwiększyły        66\n",
       "trochę się zmniejszyły       53\n",
       "znacznie się zmniejszyły     18\n",
       "znacznie się zwiększyły      12\n",
       "trudno powiedzieć             4\n",
       "odmowa odpowiedzi             2\n",
       "Name: p14, dtype: int64"
      ]
     },
     "execution_count": 15,
     "metadata": {},
     "output_type": "execute_result"
    }
   ],
   "source": [
    "df['p14'].value_counts() "
   ]
  },
  {
   "cell_type": "code",
   "execution_count": 16,
   "id": "be5a7d77",
   "metadata": {},
   "outputs": [
    {
     "data": {
      "text/plain": [
       "nie    1425\n",
       "tak     129\n",
       "Name: s1, dtype: int64"
      ]
     },
     "execution_count": 16,
     "metadata": {},
     "output_type": "execute_result"
    }
   ],
   "source": [
    "df['s1'].value_counts() "
   ]
  },
  {
   "cell_type": "code",
   "execution_count": 17,
   "id": "464f1c6f",
   "metadata": {},
   "outputs": [],
   "source": [
    "cat_df_imbalanced = pd.get_dummies(df[['Y','p1_typ', 'p14', 's1']])"
   ]
  },
  {
   "cell_type": "code",
   "execution_count": 18,
   "id": "1ec687d1",
   "metadata": {},
   "outputs": [
    {
     "data": {
      "text/html": [
       "<div>\n",
       "<style scoped>\n",
       "    .dataframe tbody tr th:only-of-type {\n",
       "        vertical-align: middle;\n",
       "    }\n",
       "\n",
       "    .dataframe tbody tr th {\n",
       "        vertical-align: top;\n",
       "    }\n",
       "\n",
       "    .dataframe thead th {\n",
       "        text-align: right;\n",
       "    }\n",
       "</style>\n",
       "<table border=\"1\" class=\"dataframe\">\n",
       "  <thead>\n",
       "    <tr style=\"text-align: right;\">\n",
       "      <th></th>\n",
       "      <th>Y</th>\n",
       "      <th>p1_typ_pozarolnicza</th>\n",
       "      <th>p1_typ_rolnicza</th>\n",
       "      <th>p14_odmowa odpowiedzi</th>\n",
       "      <th>p14_pozostały bez zmian</th>\n",
       "      <th>p14_trochę się zmniejszyły</th>\n",
       "      <th>p14_trochę się zwiększyły</th>\n",
       "      <th>p14_trudno powiedzieć</th>\n",
       "      <th>p14_znacznie się zmniejszyły</th>\n",
       "      <th>p14_znacznie się zwiększyły</th>\n",
       "      <th>s1_nie</th>\n",
       "      <th>s1_tak</th>\n",
       "    </tr>\n",
       "  </thead>\n",
       "  <tbody>\n",
       "    <tr>\n",
       "      <th>Y</th>\n",
       "      <td>1.000000</td>\n",
       "      <td>-0.046591</td>\n",
       "      <td>-0.013498</td>\n",
       "      <td>-0.007867</td>\n",
       "      <td>-0.040885</td>\n",
       "      <td>-0.009033</td>\n",
       "      <td>0.001964</td>\n",
       "      <td>-0.011131</td>\n",
       "      <td>-0.023677</td>\n",
       "      <td>-0.019310</td>\n",
       "      <td>0.019889</td>\n",
       "      <td>0.128890</td>\n",
       "    </tr>\n",
       "    <tr>\n",
       "      <th>p1_typ_pozarolnicza</th>\n",
       "      <td>-0.046591</td>\n",
       "      <td>1.000000</td>\n",
       "      <td>-0.073224</td>\n",
       "      <td>0.097336</td>\n",
       "      <td>0.444408</td>\n",
       "      <td>0.175077</td>\n",
       "      <td>0.473390</td>\n",
       "      <td>0.100410</td>\n",
       "      <td>0.134252</td>\n",
       "      <td>0.174191</td>\n",
       "      <td>0.224803</td>\n",
       "      <td>-0.006271</td>\n",
       "    </tr>\n",
       "    <tr>\n",
       "      <th>p1_typ_rolnicza</th>\n",
       "      <td>-0.013498</td>\n",
       "      <td>-0.073224</td>\n",
       "      <td>1.000000</td>\n",
       "      <td>-0.007127</td>\n",
       "      <td>0.542232</td>\n",
       "      <td>0.333434</td>\n",
       "      <td>0.062556</td>\n",
       "      <td>0.031651</td>\n",
       "      <td>0.136379</td>\n",
       "      <td>0.054908</td>\n",
       "      <td>0.173464</td>\n",
       "      <td>0.001568</td>\n",
       "    </tr>\n",
       "    <tr>\n",
       "      <th>p14_odmowa odpowiedzi</th>\n",
       "      <td>-0.007867</td>\n",
       "      <td>0.097336</td>\n",
       "      <td>-0.007127</td>\n",
       "      <td>1.000000</td>\n",
       "      <td>-0.008118</td>\n",
       "      <td>-0.004109</td>\n",
       "      <td>-0.004598</td>\n",
       "      <td>-0.001118</td>\n",
       "      <td>-0.002378</td>\n",
       "      <td>-0.001939</td>\n",
       "      <td>0.024787</td>\n",
       "      <td>-0.006512</td>\n",
       "    </tr>\n",
       "    <tr>\n",
       "      <th>p14_pozostały bez zmian</th>\n",
       "      <td>-0.040885</td>\n",
       "      <td>0.444408</td>\n",
       "      <td>0.542232</td>\n",
       "      <td>-0.008118</td>\n",
       "      <td>1.000000</td>\n",
       "      <td>-0.042219</td>\n",
       "      <td>-0.047237</td>\n",
       "      <td>-0.011486</td>\n",
       "      <td>-0.024432</td>\n",
       "      <td>-0.019925</td>\n",
       "      <td>0.218832</td>\n",
       "      <td>-0.019744</td>\n",
       "    </tr>\n",
       "    <tr>\n",
       "      <th>p14_trochę się zmniejszyły</th>\n",
       "      <td>-0.009033</td>\n",
       "      <td>0.175077</td>\n",
       "      <td>0.333434</td>\n",
       "      <td>-0.004109</td>\n",
       "      <td>-0.042219</td>\n",
       "      <td>1.000000</td>\n",
       "      <td>-0.023911</td>\n",
       "      <td>-0.005814</td>\n",
       "      <td>-0.012367</td>\n",
       "      <td>-0.010086</td>\n",
       "      <td>0.112226</td>\n",
       "      <td>-0.008772</td>\n",
       "    </tr>\n",
       "    <tr>\n",
       "      <th>p14_trochę się zwiększyły</th>\n",
       "      <td>0.001964</td>\n",
       "      <td>0.473390</td>\n",
       "      <td>0.062556</td>\n",
       "      <td>-0.004598</td>\n",
       "      <td>-0.047237</td>\n",
       "      <td>-0.023911</td>\n",
       "      <td>1.000000</td>\n",
       "      <td>-0.006505</td>\n",
       "      <td>-0.013837</td>\n",
       "      <td>-0.011285</td>\n",
       "      <td>0.129241</td>\n",
       "      <td>-0.004072</td>\n",
       "    </tr>\n",
       "    <tr>\n",
       "      <th>p14_trudno powiedzieć</th>\n",
       "      <td>-0.011131</td>\n",
       "      <td>0.100410</td>\n",
       "      <td>0.031651</td>\n",
       "      <td>-0.001118</td>\n",
       "      <td>-0.011486</td>\n",
       "      <td>-0.005814</td>\n",
       "      <td>-0.006505</td>\n",
       "      <td>1.000000</td>\n",
       "      <td>-0.003365</td>\n",
       "      <td>-0.002744</td>\n",
       "      <td>-0.005017</td>\n",
       "      <td>0.081235</td>\n",
       "    </tr>\n",
       "    <tr>\n",
       "      <th>p14_znacznie się zmniejszyły</th>\n",
       "      <td>-0.023677</td>\n",
       "      <td>0.134252</td>\n",
       "      <td>0.136379</td>\n",
       "      <td>-0.002378</td>\n",
       "      <td>-0.024432</td>\n",
       "      <td>-0.012367</td>\n",
       "      <td>-0.013837</td>\n",
       "      <td>-0.003365</td>\n",
       "      <td>1.000000</td>\n",
       "      <td>-0.005837</td>\n",
       "      <td>0.036701</td>\n",
       "      <td>0.044537</td>\n",
       "    </tr>\n",
       "    <tr>\n",
       "      <th>p14_znacznie się zwiększyły</th>\n",
       "      <td>-0.019310</td>\n",
       "      <td>0.174191</td>\n",
       "      <td>0.054908</td>\n",
       "      <td>-0.001939</td>\n",
       "      <td>-0.019925</td>\n",
       "      <td>-0.010086</td>\n",
       "      <td>-0.011285</td>\n",
       "      <td>-0.002744</td>\n",
       "      <td>-0.005837</td>\n",
       "      <td>1.000000</td>\n",
       "      <td>0.049247</td>\n",
       "      <td>-0.015982</td>\n",
       "    </tr>\n",
       "    <tr>\n",
       "      <th>s1_nie</th>\n",
       "      <td>0.019889</td>\n",
       "      <td>0.224803</td>\n",
       "      <td>0.173464</td>\n",
       "      <td>0.024787</td>\n",
       "      <td>0.218832</td>\n",
       "      <td>0.112226</td>\n",
       "      <td>0.129241</td>\n",
       "      <td>-0.005017</td>\n",
       "      <td>0.036701</td>\n",
       "      <td>0.049247</td>\n",
       "      <td>1.000000</td>\n",
       "      <td>-0.262703</td>\n",
       "    </tr>\n",
       "    <tr>\n",
       "      <th>s1_tak</th>\n",
       "      <td>0.128890</td>\n",
       "      <td>-0.006271</td>\n",
       "      <td>0.001568</td>\n",
       "      <td>-0.006512</td>\n",
       "      <td>-0.019744</td>\n",
       "      <td>-0.008772</td>\n",
       "      <td>-0.004072</td>\n",
       "      <td>0.081235</td>\n",
       "      <td>0.044537</td>\n",
       "      <td>-0.015982</td>\n",
       "      <td>-0.262703</td>\n",
       "      <td>1.000000</td>\n",
       "    </tr>\n",
       "  </tbody>\n",
       "</table>\n",
       "</div>"
      ],
      "text/plain": [
       "                                     Y  p1_typ_pozarolnicza  p1_typ_rolnicza  \\\n",
       "Y                             1.000000            -0.046591        -0.013498   \n",
       "p1_typ_pozarolnicza          -0.046591             1.000000        -0.073224   \n",
       "p1_typ_rolnicza              -0.013498            -0.073224         1.000000   \n",
       "p14_odmowa odpowiedzi        -0.007867             0.097336        -0.007127   \n",
       "p14_pozostały bez zmian      -0.040885             0.444408         0.542232   \n",
       "p14_trochę się zmniejszyły   -0.009033             0.175077         0.333434   \n",
       "p14_trochę się zwiększyły     0.001964             0.473390         0.062556   \n",
       "p14_trudno powiedzieć        -0.011131             0.100410         0.031651   \n",
       "p14_znacznie się zmniejszyły -0.023677             0.134252         0.136379   \n",
       "p14_znacznie się zwiększyły  -0.019310             0.174191         0.054908   \n",
       "s1_nie                        0.019889             0.224803         0.173464   \n",
       "s1_tak                        0.128890            -0.006271         0.001568   \n",
       "\n",
       "                              p14_odmowa odpowiedzi  p14_pozostały bez zmian  \\\n",
       "Y                                         -0.007867                -0.040885   \n",
       "p1_typ_pozarolnicza                        0.097336                 0.444408   \n",
       "p1_typ_rolnicza                           -0.007127                 0.542232   \n",
       "p14_odmowa odpowiedzi                      1.000000                -0.008118   \n",
       "p14_pozostały bez zmian                   -0.008118                 1.000000   \n",
       "p14_trochę się zmniejszyły                -0.004109                -0.042219   \n",
       "p14_trochę się zwiększyły                 -0.004598                -0.047237   \n",
       "p14_trudno powiedzieć                     -0.001118                -0.011486   \n",
       "p14_znacznie się zmniejszyły              -0.002378                -0.024432   \n",
       "p14_znacznie się zwiększyły               -0.001939                -0.019925   \n",
       "s1_nie                                     0.024787                 0.218832   \n",
       "s1_tak                                    -0.006512                -0.019744   \n",
       "\n",
       "                              p14_trochę się zmniejszyły  \\\n",
       "Y                                              -0.009033   \n",
       "p1_typ_pozarolnicza                             0.175077   \n",
       "p1_typ_rolnicza                                 0.333434   \n",
       "p14_odmowa odpowiedzi                          -0.004109   \n",
       "p14_pozostały bez zmian                        -0.042219   \n",
       "p14_trochę się zmniejszyły                      1.000000   \n",
       "p14_trochę się zwiększyły                      -0.023911   \n",
       "p14_trudno powiedzieć                          -0.005814   \n",
       "p14_znacznie się zmniejszyły                   -0.012367   \n",
       "p14_znacznie się zwiększyły                    -0.010086   \n",
       "s1_nie                                          0.112226   \n",
       "s1_tak                                         -0.008772   \n",
       "\n",
       "                              p14_trochę się zwiększyły  \\\n",
       "Y                                              0.001964   \n",
       "p1_typ_pozarolnicza                            0.473390   \n",
       "p1_typ_rolnicza                                0.062556   \n",
       "p14_odmowa odpowiedzi                         -0.004598   \n",
       "p14_pozostały bez zmian                       -0.047237   \n",
       "p14_trochę się zmniejszyły                    -0.023911   \n",
       "p14_trochę się zwiększyły                      1.000000   \n",
       "p14_trudno powiedzieć                         -0.006505   \n",
       "p14_znacznie się zmniejszyły                  -0.013837   \n",
       "p14_znacznie się zwiększyły                   -0.011285   \n",
       "s1_nie                                         0.129241   \n",
       "s1_tak                                        -0.004072   \n",
       "\n",
       "                              p14_trudno powiedzieć  \\\n",
       "Y                                         -0.011131   \n",
       "p1_typ_pozarolnicza                        0.100410   \n",
       "p1_typ_rolnicza                            0.031651   \n",
       "p14_odmowa odpowiedzi                     -0.001118   \n",
       "p14_pozostały bez zmian                   -0.011486   \n",
       "p14_trochę się zmniejszyły                -0.005814   \n",
       "p14_trochę się zwiększyły                 -0.006505   \n",
       "p14_trudno powiedzieć                      1.000000   \n",
       "p14_znacznie się zmniejszyły              -0.003365   \n",
       "p14_znacznie się zwiększyły               -0.002744   \n",
       "s1_nie                                    -0.005017   \n",
       "s1_tak                                     0.081235   \n",
       "\n",
       "                              p14_znacznie się zmniejszyły  \\\n",
       "Y                                                -0.023677   \n",
       "p1_typ_pozarolnicza                               0.134252   \n",
       "p1_typ_rolnicza                                   0.136379   \n",
       "p14_odmowa odpowiedzi                            -0.002378   \n",
       "p14_pozostały bez zmian                          -0.024432   \n",
       "p14_trochę się zmniejszyły                       -0.012367   \n",
       "p14_trochę się zwiększyły                        -0.013837   \n",
       "p14_trudno powiedzieć                            -0.003365   \n",
       "p14_znacznie się zmniejszyły                      1.000000   \n",
       "p14_znacznie się zwiększyły                      -0.005837   \n",
       "s1_nie                                            0.036701   \n",
       "s1_tak                                            0.044537   \n",
       "\n",
       "                              p14_znacznie się zwiększyły    s1_nie    s1_tak  \n",
       "Y                                               -0.019310  0.019889  0.128890  \n",
       "p1_typ_pozarolnicza                              0.174191  0.224803 -0.006271  \n",
       "p1_typ_rolnicza                                  0.054908  0.173464  0.001568  \n",
       "p14_odmowa odpowiedzi                           -0.001939  0.024787 -0.006512  \n",
       "p14_pozostały bez zmian                         -0.019925  0.218832 -0.019744  \n",
       "p14_trochę się zmniejszyły                      -0.010086  0.112226 -0.008772  \n",
       "p14_trochę się zwiększyły                       -0.011285  0.129241 -0.004072  \n",
       "p14_trudno powiedzieć                           -0.002744 -0.005017  0.081235  \n",
       "p14_znacznie się zmniejszyły                    -0.005837  0.036701  0.044537  \n",
       "p14_znacznie się zwiększyły                      1.000000  0.049247 -0.015982  \n",
       "s1_nie                                           0.049247  1.000000 -0.262703  \n",
       "s1_tak                                          -0.015982 -0.262703  1.000000  "
      ]
     },
     "execution_count": 18,
     "metadata": {},
     "output_type": "execute_result"
    }
   ],
   "source": [
    "cat_df_imbalanced.corr()"
   ]
  },
  {
   "cell_type": "markdown",
   "id": "984b6225",
   "metadata": {},
   "source": [
    "Patrząc z perspektywy powyższej korelacji - na pewno należy odrzucić zmienną p14. Nie wpływa ona znacząco na zmienną objaśnianą, a dodatkowo zawiera dużo braków w danych."
   ]
  },
  {
   "cell_type": "code",
   "execution_count": 19,
   "id": "b2820fc5",
   "metadata": {},
   "outputs": [],
   "source": [
    "cat_df_imbalanced = pd.get_dummies(df[['Y','p1_typ', 's1']])"
   ]
  },
  {
   "cell_type": "code",
   "execution_count": 20,
   "id": "35f52d19",
   "metadata": {},
   "outputs": [
    {
     "data": {
      "text/html": [
       "<div>\n",
       "<style scoped>\n",
       "    .dataframe tbody tr th:only-of-type {\n",
       "        vertical-align: middle;\n",
       "    }\n",
       "\n",
       "    .dataframe tbody tr th {\n",
       "        vertical-align: top;\n",
       "    }\n",
       "\n",
       "    .dataframe thead th {\n",
       "        text-align: right;\n",
       "    }\n",
       "</style>\n",
       "<table border=\"1\" class=\"dataframe\">\n",
       "  <thead>\n",
       "    <tr style=\"text-align: right;\">\n",
       "      <th></th>\n",
       "      <th>Y</th>\n",
       "      <th>p1_typ_pozarolnicza</th>\n",
       "      <th>p1_typ_rolnicza</th>\n",
       "      <th>s1_nie</th>\n",
       "      <th>s1_tak</th>\n",
       "    </tr>\n",
       "  </thead>\n",
       "  <tbody>\n",
       "    <tr>\n",
       "      <th>Y</th>\n",
       "      <td>1.000000</td>\n",
       "      <td>-0.046591</td>\n",
       "      <td>-0.013498</td>\n",
       "      <td>0.019889</td>\n",
       "      <td>0.128890</td>\n",
       "    </tr>\n",
       "    <tr>\n",
       "      <th>p1_typ_pozarolnicza</th>\n",
       "      <td>-0.046591</td>\n",
       "      <td>1.000000</td>\n",
       "      <td>-0.073224</td>\n",
       "      <td>0.224803</td>\n",
       "      <td>-0.006271</td>\n",
       "    </tr>\n",
       "    <tr>\n",
       "      <th>p1_typ_rolnicza</th>\n",
       "      <td>-0.013498</td>\n",
       "      <td>-0.073224</td>\n",
       "      <td>1.000000</td>\n",
       "      <td>0.173464</td>\n",
       "      <td>0.001568</td>\n",
       "    </tr>\n",
       "    <tr>\n",
       "      <th>s1_nie</th>\n",
       "      <td>0.019889</td>\n",
       "      <td>0.224803</td>\n",
       "      <td>0.173464</td>\n",
       "      <td>1.000000</td>\n",
       "      <td>-0.262703</td>\n",
       "    </tr>\n",
       "    <tr>\n",
       "      <th>s1_tak</th>\n",
       "      <td>0.128890</td>\n",
       "      <td>-0.006271</td>\n",
       "      <td>0.001568</td>\n",
       "      <td>-0.262703</td>\n",
       "      <td>1.000000</td>\n",
       "    </tr>\n",
       "  </tbody>\n",
       "</table>\n",
       "</div>"
      ],
      "text/plain": [
       "                            Y  p1_typ_pozarolnicza  p1_typ_rolnicza    s1_nie  \\\n",
       "Y                    1.000000            -0.046591        -0.013498  0.019889   \n",
       "p1_typ_pozarolnicza -0.046591             1.000000        -0.073224  0.224803   \n",
       "p1_typ_rolnicza     -0.013498            -0.073224         1.000000  0.173464   \n",
       "s1_nie               0.019889             0.224803         0.173464  1.000000   \n",
       "s1_tak               0.128890            -0.006271         0.001568 -0.262703   \n",
       "\n",
       "                       s1_tak  \n",
       "Y                    0.128890  \n",
       "p1_typ_pozarolnicza -0.006271  \n",
       "p1_typ_rolnicza      0.001568  \n",
       "s1_nie              -0.262703  \n",
       "s1_tak               1.000000  "
      ]
     },
     "execution_count": 20,
     "metadata": {},
     "output_type": "execute_result"
    }
   ],
   "source": [
    "cat_df_imbalanced.corr()"
   ]
  },
  {
   "cell_type": "markdown",
   "id": "caad3911",
   "metadata": {},
   "source": [
    "Pozostałe zmienne uwzględnimy w dalszej analizie."
   ]
  },
  {
   "cell_type": "code",
   "execution_count": 21,
   "id": "69d8ea23",
   "metadata": {},
   "outputs": [
    {
     "name": "stderr",
     "output_type": "stream",
     "text": [
      "C:\\Users\\mateu\\anaconda3\\lib\\site-packages\\pandas\\core\\frame.py:4906: SettingWithCopyWarning: \n",
      "A value is trying to be set on a copy of a slice from a DataFrame\n",
      "\n",
      "See the caveats in the documentation: https://pandas.pydata.org/pandas-docs/stable/user_guide/indexing.html#returning-a-view-versus-a-copy\n",
      "  return super().drop(\n"
     ]
    }
   ],
   "source": [
    "df.drop(columns = 'p14', inplace = True)"
   ]
  },
  {
   "cell_type": "code",
   "execution_count": 22,
   "id": "5b496736",
   "metadata": {},
   "outputs": [],
   "source": [
    "df.drop(columns = 'm9_1', inplace = True)"
   ]
  },
  {
   "cell_type": "code",
   "execution_count": 23,
   "id": "dd9e4a78",
   "metadata": {},
   "outputs": [
    {
     "name": "stdout",
     "output_type": "stream",
     "text": [
      "<class 'pandas.core.frame.DataFrame'>\n",
      "RangeIndex: 2533 entries, 0 to 2532\n",
      "Data columns (total 21 columns):\n",
      " #   Column      Non-Null Count  Dtype   \n",
      "---  ------      --------------  -----   \n",
      " 0   respid      2533 non-null   float64 \n",
      " 1   Y           2533 non-null   int32   \n",
      " 2   woj         2533 non-null   category\n",
      " 3   miejsce_4k  2527 non-null   category\n",
      " 4   wiek        2533 non-null   float64 \n",
      " 5   wiek_3k     2533 non-null   category\n",
      " 6   wiek_4k     2533 non-null   category\n",
      " 7   m2          2533 non-null   category\n",
      " 8   wykszt_4k   2531 non-null   category\n",
      " 9   matura      2533 non-null   category\n",
      " 10  p1          2533 non-null   category\n",
      " 11  p1_typ      348 non-null    category\n",
      " 12  c1          2532 non-null   category\n",
      " 13  c2          2533 non-null   category\n",
      " 14  y1          2532 non-null   category\n",
      " 15  y1_1        2532 non-null   category\n",
      " 16  y2          2532 non-null   category\n",
      " 17  g1          2533 non-null   category\n",
      " 18  s1          1554 non-null   category\n",
      " 19  m5          2530 non-null   category\n",
      " 20  m6          2533 non-null   category\n",
      "dtypes: category(18), float64(2), int32(1)\n",
      "memory usage: 96.9 KB\n"
     ]
    }
   ],
   "source": [
    "df.info()"
   ]
  },
  {
   "cell_type": "markdown",
   "id": "2d058ad8",
   "metadata": {},
   "source": [
    "# Tworzenie zmiennych 'dummy' (0 - 1)"
   ]
  },
  {
   "cell_type": "code",
   "execution_count": 24,
   "id": "867fd1fc",
   "metadata": {},
   "outputs": [],
   "source": [
    "df = pd.get_dummies(df)"
   ]
  },
  {
   "cell_type": "code",
   "execution_count": 25,
   "id": "77527db5",
   "metadata": {},
   "outputs": [
    {
     "data": {
      "text/plain": [
       "0       0\n",
       "1       0\n",
       "2       0\n",
       "3       0\n",
       "4       0\n",
       "       ..\n",
       "2528    0\n",
       "2529    0\n",
       "2530    0\n",
       "2531    0\n",
       "2532    0\n",
       "Name: p1_tak, Length: 2533, dtype: uint8"
      ]
     },
     "execution_count": 25,
     "metadata": {},
     "output_type": "execute_result"
    }
   ],
   "source": [
    "df['p1_tak']"
   ]
  },
  {
   "cell_type": "markdown",
   "id": "9e9235b3",
   "metadata": {},
   "source": [
    "# Podział na zmienną objaśnianą oraz objaśniające"
   ]
  },
  {
   "cell_type": "code",
   "execution_count": 26,
   "id": "1c05dbb9",
   "metadata": {},
   "outputs": [],
   "source": [
    "y = df.pop('Y')\n",
    "X = df.drop(columns = ['respid'])"
   ]
  },
  {
   "cell_type": "code",
   "execution_count": 29,
   "id": "2df6d8f0",
   "metadata": {},
   "outputs": [
    {
     "name": "stdout",
     "output_type": "stream",
     "text": [
      "Shape of X: (2533, 59)\n",
      "Shape of y: (2533,)\n"
     ]
    }
   ],
   "source": [
    "print('Shape of X: {}'.format(X.shape))\n",
    "print('Shape of y: {}'.format(y.shape))"
   ]
  },
  {
   "cell_type": "markdown",
   "id": "b6b3fd6a",
   "metadata": {},
   "source": [
    "Użyty został stratify, aby podzielić dane w zależności od wartości znalezionych w zmiennej objaśnianej."
   ]
  },
  {
   "cell_type": "code",
   "execution_count": 31,
   "id": "80a209e3",
   "metadata": {},
   "outputs": [],
   "source": [
    "from sklearn.model_selection import train_test_split\n",
    "\n",
    "X_train, X_test, y_train, y_test = train_test_split(X, y, test_size=0.2, random_state=0, stratify = y)"
   ]
  },
  {
   "cell_type": "code",
   "execution_count": 32,
   "id": "0aef1cc7",
   "metadata": {},
   "outputs": [
    {
     "name": "stdout",
     "output_type": "stream",
     "text": [
      "Liczba obserwacji X_train:  (2026, 59)\n",
      "Liczba obserwacji y_train:  (2026,)\n",
      "Liczba obserwacji X_test:  (507, 59)\n",
      "Liczba obserwacji y_test:  (507,)\n"
     ]
    }
   ],
   "source": [
    "print(\"Liczba obserwacji X_train: \", X_train.shape)\n",
    "print(\"Liczba obserwacji y_train: \", y_train.shape)\n",
    "print(\"Liczba obserwacji X_test: \", X_test.shape)\n",
    "print(\"Liczba obserwacji y_test: \", y_test.shape)"
   ]
  },
  {
   "cell_type": "markdown",
   "id": "eeef0184",
   "metadata": {},
   "source": [
    "# Algorytm SMOTE dla niezbalansowanej klasy"
   ]
  },
  {
   "cell_type": "code",
   "execution_count": 33,
   "id": "4fbdb8c1",
   "metadata": {},
   "outputs": [
    {
     "ename": "ModuleNotFoundError",
     "evalue": "No module named 'imblearn'",
     "output_type": "error",
     "traceback": [
      "\u001b[1;31m---------------------------------------------------------------------------\u001b[0m",
      "\u001b[1;31mModuleNotFoundError\u001b[0m                       Traceback (most recent call last)",
      "\u001b[1;32m~\\AppData\\Local\\Temp/ipykernel_31664/1097802020.py\u001b[0m in \u001b[0;36m<module>\u001b[1;34m\u001b[0m\n\u001b[1;32m----> 1\u001b[1;33m \u001b[1;32mfrom\u001b[0m \u001b[0mimblearn\u001b[0m\u001b[1;33m.\u001b[0m\u001b[0mover_sampling\u001b[0m \u001b[1;32mimport\u001b[0m \u001b[0mSMOTE\u001b[0m\u001b[1;33m\u001b[0m\u001b[1;33m\u001b[0m\u001b[0m\n\u001b[0m\u001b[0;32m      2\u001b[0m \u001b[1;33m\u001b[0m\u001b[0m\n\u001b[0;32m      3\u001b[0m \u001b[0msm\u001b[0m \u001b[1;33m=\u001b[0m \u001b[0mSMOTE\u001b[0m\u001b[1;33m(\u001b[0m\u001b[0mrandom_state\u001b[0m\u001b[1;33m=\u001b[0m\u001b[1;36m420\u001b[0m\u001b[1;33m)\u001b[0m\u001b[1;33m\u001b[0m\u001b[1;33m\u001b[0m\u001b[0m\n\u001b[0;32m      4\u001b[0m \u001b[0mX_res\u001b[0m\u001b[1;33m,\u001b[0m \u001b[0my_res\u001b[0m \u001b[1;33m=\u001b[0m \u001b[0msm\u001b[0m\u001b[1;33m.\u001b[0m\u001b[0mfit_resample\u001b[0m\u001b[1;33m(\u001b[0m\u001b[0mX_train\u001b[0m\u001b[1;33m,\u001b[0m \u001b[0my_train\u001b[0m\u001b[1;33m)\u001b[0m\u001b[1;33m\u001b[0m\u001b[1;33m\u001b[0m\u001b[0m\n",
      "\u001b[1;31mModuleNotFoundError\u001b[0m: No module named 'imblearn'"
     ]
    }
   ],
   "source": [
    "from imblearn.over_sampling import SMOTE\n",
    "\n",
    "sm = SMOTE(random_state=420)\n",
    "X_res, y_res = sm.fit_resample(X_train, y_train)"
   ]
  },
  {
   "cell_type": "code",
   "execution_count": null,
   "id": "f3dc76ed",
   "metadata": {},
   "outputs": [],
   "source": []
  },
  {
   "cell_type": "code",
   "execution_count": null,
   "id": "2a58538a",
   "metadata": {},
   "outputs": [],
   "source": []
  },
  {
   "cell_type": "code",
   "execution_count": null,
   "id": "6e44bfcb",
   "metadata": {},
   "outputs": [],
   "source": []
  },
  {
   "cell_type": "code",
   "execution_count": null,
   "id": "c55e4391",
   "metadata": {},
   "outputs": [],
   "source": []
  }
 ],
 "metadata": {
  "kernelspec": {
   "display_name": "Python 3 (ipykernel)",
   "language": "python",
   "name": "python3"
  },
  "language_info": {
   "codemirror_mode": {
    "name": "ipython",
    "version": 3
   },
   "file_extension": ".py",
   "mimetype": "text/x-python",
   "name": "python",
   "nbconvert_exporter": "python",
   "pygments_lexer": "ipython3",
   "version": "3.9.7"
  }
 },
 "nbformat": 4,
 "nbformat_minor": 5
}
